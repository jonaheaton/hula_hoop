{
 "cells": [
  {
   "cell_type": "code",
   "execution_count": 1,
   "metadata": {},
   "outputs": [
    {
     "name": "stderr",
     "output_type": "stream",
     "text": [
      "/Users/jonaheaton/Documents/GitHub/hula_hoop/.conda/lib/python3.11/site-packages/threadpoolctl.py:1214: RuntimeWarning: \n",
      "Found Intel OpenMP ('libiomp') and LLVM OpenMP ('libomp') loaded at\n",
      "the same time. Both libraries are known to be incompatible and this\n",
      "can cause random crashes or deadlocks on Linux when loaded in the\n",
      "same Python program.\n",
      "Using threadpoolctl may cause crashes or deadlocks. For more\n",
      "information and possible workarounds, please see\n",
      "    https://github.com/joblib/threadpoolctl/blob/master/multiple_openmp.md\n",
      "\n",
      "  warnings.warn(msg, RuntimeWarning)\n"
     ]
    }
   ],
   "source": [
    "import os\n",
    "import sys\n",
    "import pandas as pd\n",
    "import numpy as np\n",
    "import torch\n",
    "import matplotlib.pyplot as plt\n",
    "# ! pip install scikit-learn\n",
    "from sklearn.preprocessing import StandardScaler, MinMaxScaler\n",
    "\n",
    "from video import main_process_video, slow_down_video, create_video_with_ellipse_overlay\n",
    "from prep_data import get_hula_hoop_coord, prep_for_lstm, save_csv\n",
    "from model import HulaHoopLSTM"
   ]
  },
  {
   "cell_type": "markdown",
   "metadata": {},
   "source": [
    "## Set up Paths"
   ]
  },
  {
   "cell_type": "code",
   "execution_count": 2,
   "metadata": {},
   "outputs": [],
   "source": [
    "user_dir = os.path.expanduser('~')\n",
    "working_dir = os.path.join(user_dir, 'hulahoop_output')\n",
    "os.makedirs(working_dir, exist_ok=True)\n",
    "\n",
    "video_id = 'DSC_7450'\n",
    "input_video_file = os.path.join(working_dir, f'{video_id}.MOV')"
   ]
  },
  {
   "cell_type": "markdown",
   "metadata": {},
   "source": [
    "## Read and Process the Video"
   ]
  },
  {
   "cell_type": "code",
   "execution_count": 3,
   "metadata": {},
   "outputs": [],
   "source": [
    "slow_factor = 4\n",
    "start_frame = 150\n",
    "max_frames = 3000\n",
    "output_rawdata_path = os.path.join(working_dir, f'{video_id}_raw_data.pkl')\n"
   ]
  },
  {
   "cell_type": "code",
   "execution_count": 3,
   "metadata": {},
   "outputs": [],
   "source": [
    "\n",
    "main_process_video(input_video_path=input_video_file, \n",
    "                   output_data_path=output_rawdata_path, \n",
    "                   output_video_path=None, \n",
    "                   start_frame=start_frame, \n",
    "                   max_frames=max_frames,\n",
    "                   slow_factor=slow_factor)"
   ]
  },
  {
   "cell_type": "markdown",
   "metadata": {},
   "source": [
    "### Create a video snippet\n"
   ]
  },
  {
   "cell_type": "code",
   "execution_count": 4,
   "metadata": {},
   "outputs": [],
   "source": [
    "play_start_frame = 2100\n",
    "play_max_frames = 400\n",
    "\n",
    "output_video_path = os.path.join(working_dir, f'{video_id}_{start_frame}_processed.mp4')\n"
   ]
  },
  {
   "cell_type": "code",
   "execution_count": 5,
   "metadata": {},
   "outputs": [],
   "source": [
    "main_process_video(input_video_path=input_video_file, \n",
    "                   output_data_path=None, \n",
    "                   output_video_path=output_video_path, \n",
    "                   start_frame=play_start_frame, \n",
    "                   max_frames=play_max_frames,\n",
    "                   slow_factor=slow_factor)"
   ]
  },
  {
   "cell_type": "code",
   "execution_count": 6,
   "metadata": {},
   "outputs": [
    {
     "data": {
      "text/plain": [
       "'/Users/jonaheaton/hulahoop_output/DSC_7450_150_slowdown.mp4'"
      ]
     },
     "execution_count": 6,
     "metadata": {},
     "output_type": "execute_result"
    }
   ],
   "source": [
    "slow_down_video(video_path=input_video_file,\n",
    "                output_path=os.path.join(working_dir, f'{video_id}_{start_frame}_slowdown.mp4'),\n",
    "                slow_factor=slow_factor,\n",
    "                start_frame=play_start_frame,\n",
    "                max_frames=play_max_frames)"
   ]
  },
  {
   "cell_type": "markdown",
   "metadata": {},
   "source": [
    "## Convert raw output data into a csv of coordinates of the ellipses"
   ]
  },
  {
   "cell_type": "code",
   "execution_count": 5,
   "metadata": {},
   "outputs": [],
   "source": [
    "ellipse_data_path = os.path.join(working_dir, f'{video_id}_ellipse_data.csv')\n",
    "\n",
    "hulahoop_ellipse_df = get_hula_hoop_coord(output_rawdata_path)\n",
    "save_csv(hulahoop_ellipse_df, ellipse_data_path)"
   ]
  },
  {
   "cell_type": "code",
   "execution_count": null,
   "metadata": {},
   "outputs": [],
   "source": []
  },
  {
   "cell_type": "markdown",
   "metadata": {},
   "source": [
    "## Load the csv file and train an LSTM model"
   ]
  },
  {
   "cell_type": "code",
   "execution_count": 6,
   "metadata": {},
   "outputs": [],
   "source": [
    "train_frac = 0.7\n",
    "lookback_window = 5"
   ]
  },
  {
   "cell_type": "code",
   "execution_count": 7,
   "metadata": {},
   "outputs": [
    {
     "name": "stdout",
     "output_type": "stream",
     "text": [
      "top ellipse X                0\n",
      "top ellipse Y                0\n",
      "bottom ellipse X             0\n",
      "bottom ellipse Y             0\n",
      "top ellipse Major Axis       3\n",
      "top ellipse Minor Axis       0\n",
      "bottom ellipse Major Axis    0\n",
      "bottom ellipse Minor Axis    0\n",
      "top ellipse Angle            3\n",
      "bottom ellipse Angle         0\n",
      "dtype: int64\n"
     ]
    }
   ],
   "source": [
    "data = pd.read_csv(ellipse_data_path)\n",
    "# train_dict, test_dict, scaler = prep_for_lstm(data, train_frac=train_frac, lookback_window=lookback_window, yes_plot=True, output_dir=working_dir)\n",
    "train_dict, test_dict, scaler = prep_for_lstm(data, train_frac=train_frac, lookback_window=lookback_window, yes_plot=False, output_dir=working_dir)"
   ]
  },
  {
   "cell_type": "code",
   "execution_count": 11,
   "metadata": {},
   "outputs": [
    {
     "name": "stdout",
     "output_type": "stream",
     "text": [
      "Training Data\n",
      "(2087, 5, 10)\n",
      "(2087, 10)\n",
      "(2087,)\n",
      "Testing Data\n",
      "(895, 5, 10)\n",
      "(895, 10)\n",
      "(895,)\n"
     ]
    }
   ],
   "source": [
    "print('Training Data')\n",
    "print(train_dict['X'].shape)\n",
    "print(train_dict['y'].shape)\n",
    "print(train_dict['frames'].shape)\n",
    "print('Testing Data')\n",
    "print(test_dict['X'].shape)\n",
    "print(test_dict['y'].shape)\n",
    "print(test_dict['frames'].shape)"
   ]
  },
  {
   "cell_type": "code",
   "execution_count": 12,
   "metadata": {},
   "outputs": [],
   "source": [
    "# create the model and fit\n",
    "model = HulaHoopLSTM(input_size=10, hidden_size=64, output_size=10, num_layers=3, data_scaler=MinMaxScaler())\n"
   ]
  },
  {
   "cell_type": "code",
   "execution_count": 13,
   "metadata": {},
   "outputs": [],
   "source": [
    "X_train = train_dict['X']\n",
    "y_train = train_dict['y']\n",
    "frame_train = train_dict['frames']\n",
    "X_test = test_dict['X']\n",
    "y_test = test_dict['y']\n",
    "cols = test_dict['col names']\n",
    "frame_test = test_dict['frames']"
   ]
  },
  {
   "cell_type": "code",
   "execution_count": 14,
   "metadata": {},
   "outputs": [
    {
     "name": "stdout",
     "output_type": "stream",
     "text": [
      "Epoch 0:\t loss=0.1541\n",
      "Epoch 10:\t loss=0.0024\n",
      "Epoch 20:\t loss=0.0018\n",
      "Epoch 30:\t loss=0.0014\n",
      "Epoch 40:\t loss=0.0011\n",
      "Epoch 50:\t loss=0.0010\n",
      "Epoch 60:\t loss=0.0009\n",
      "Epoch 70:\t loss=0.0009\n",
      "Epoch 80:\t loss=0.0009\n",
      "Epoch 90:\t loss=0.0008\n"
     ]
    }
   ],
   "source": [
    "model.fit(X_train, y_train, num_epoch=100, batch_size=64)"
   ]
  },
  {
   "cell_type": "code",
   "execution_count": 15,
   "metadata": {},
   "outputs": [
    {
     "name": "stderr",
     "output_type": "stream",
     "text": [
      "/Users/jonaheaton/Documents/GitHub/hula_hoop/.conda/lib/python3.11/site-packages/sklearn/base.py:486: UserWarning: X has feature names, but MinMaxScaler was fitted without feature names\n",
      "  warnings.warn(\n",
      "/Users/jonaheaton/Documents/GitHub/hula_hoop/.conda/lib/python3.11/site-packages/sklearn/base.py:486: UserWarning: X has feature names, but MinMaxScaler was fitted without feature names\n",
      "  warnings.warn(\n"
     ]
    },
    {
     "data": {
      "text/plain": [
       "{'top ellipse X': 7.24113130569458,\n",
       " 'top ellipse X_scaled': 0.000108883083157707,\n",
       " 'top ellipse Y': 2.431668519973755,\n",
       " 'top ellipse Y_scaled': 0.00011015280324500054,\n",
       " 'bottom ellipse X': 2.8204264640808105,\n",
       " 'bottom ellipse X_scaled': 9.296270582126454e-05,\n",
       " 'bottom ellipse Y': 3.2678651809692383,\n",
       " 'bottom ellipse Y_scaled': 0.00011356089817127213,\n",
       " 'top ellipse Major Axis': 3.6965138912200928,\n",
       " 'top ellipse Major Axis_scaled': 0.0003064603661186993,\n",
       " 'top ellipse Minor Axis': 4.230340480804443,\n",
       " 'top ellipse Minor Axis_scaled': 0.00021476981055457145,\n",
       " 'bottom ellipse Major Axis': 1.230151891708374,\n",
       " 'bottom ellipse Major Axis_scaled': 0.0007367470534518361,\n",
       " 'bottom ellipse Minor Axis': 0.9357483983039856,\n",
       " 'bottom ellipse Minor Axis_scaled': 0.0004269031051080674,\n",
       " 'top ellipse Angle': 0.3561367988586426,\n",
       " 'top ellipse Angle_scaled': 0.001084027928300202,\n",
       " 'bottom ellipse Angle': 126.67938232421875,\n",
       " 'bottom ellipse Angle_scaled': 0.004100950434803963,\n",
       " 'total': 0.0007295417599380016}"
      ]
     },
     "execution_count": 15,
     "metadata": {},
     "output_type": "execute_result"
    }
   ],
   "source": [
    "model.evaluate(X_test, y_test, cols)"
   ]
  },
  {
   "cell_type": "code",
   "execution_count": 16,
   "metadata": {},
   "outputs": [],
   "source": [
    "y_pred = model.predict(X_test)\n"
   ]
  },
  {
   "cell_type": "markdown",
   "metadata": {},
   "source": [
    "### Generative predictions, predict the next XX frames from the just 5 frames. "
   ]
  },
  {
   "cell_type": "code",
   "execution_count": 17,
   "metadata": {},
   "outputs": [
    {
     "name": "stdout",
     "output_type": "stream",
     "text": [
      "900\n"
     ]
    }
   ],
   "source": [
    "num_steps = frame_test[-1] - frame_train[-1]\n",
    "print(num_steps)\n",
    "y_new = model.generate(X_train[-1,:,:], num_steps)"
   ]
  },
  {
   "cell_type": "code",
   "execution_count": 18,
   "metadata": {},
   "outputs": [
    {
     "data": {
      "text/plain": [
       "array([[301.97146606, 500.10421753, 313.73898315, ..., 165.90298462,\n",
       "         82.67212677, 139.79180908],\n",
       "       [350.44143677, 493.18008423, 348.19973755, ..., 161.1191864 ,\n",
       "         87.96343231, 137.84649658],\n",
       "       [402.48352051, 492.74478149, 385.46170044, ..., 162.70924377,\n",
       "         93.43064117,  67.45027161],\n",
       "       ...,\n",
       "       [255.8278656 , 545.04907227, 285.47589111, ..., 190.06921387,\n",
       "         86.64559937, 110.14867401],\n",
       "       [249.75379944, 519.46710205, 278.49514771, ..., 175.74751282,\n",
       "         85.88119507, 121.28447723],\n",
       "       [287.4234314 , 500.93426514, 302.06887817, ..., 164.53720093,\n",
       "         86.80496979, 124.0710144 ]])"
      ]
     },
     "execution_count": 18,
     "metadata": {},
     "output_type": "execute_result"
    }
   ],
   "source": [
    "y_train"
   ]
  },
  {
   "cell_type": "code",
   "execution_count": 29,
   "metadata": {},
   "outputs": [],
   "source": [
    "df_ellipse_train = pd.DataFrame(data=y_train, columns=cols, index=frame_train)\n",
    "df_ellipse_train['kind'] = 'Training'\n",
    "df_ellipse_test = pd.DataFrame(data=y_test, columns=cols, index=frame_test)\n",
    "df_ellipse_test['kind'] = 'Actual'\n",
    "df_ellipse_pred = pd.DataFrame(data=y_pred, columns=cols, index=frame_test)\n",
    "df_ellipse_pred['kind'] = 'Next Frame Prediction'\n",
    "df_ellipse_new = pd.DataFrame(data=y_new, columns=cols, index = np.arange(frame_train[-1], frame_train[-1]+num_steps))\n",
    "\n",
    "# drop the first row since it is duplicate of the training\n",
    "df_ellipse_new = df_ellipse_new.iloc[1:]\n",
    "df_ellipse_new['kind'] = 'Generative'\n",
    "\n",
    "\n",
    "df_ellipse = pd.concat([df_ellipse_train, df_ellipse_pred])\n",
    "df_ellipse.to_csv(os.path.join(working_dir, f'{video_id}_ellipse_data_nextframe_predictions.csv'))\n",
    "\n",
    "# df_ellipse = pd.concat([df_ellipse_train, df_ellipse_test, df_ellipse_pred, df_ellipse_new])\n",
    "df_ellipse = pd.concat([df_ellipse_train, df_ellipse_new])\n",
    "df_ellipse.to_csv(os.path.join(working_dir, f'{video_id}_ellipse_data_generative_predictions.csv'))\n",
    "\n",
    "\n",
    "df_all = pd.concat([df_ellipse_train, df_ellipse_test, df_ellipse_pred, df_ellipse_new])"
   ]
  },
  {
   "cell_type": "markdown",
   "metadata": {},
   "source": [
    "## Create video with overlay of the predicted ellipses"
   ]
  },
  {
   "cell_type": "code",
   "execution_count": 28,
   "metadata": {},
   "outputs": [],
   "source": [
    "create_video_with_ellipse_overlay(\n",
    "    input_video_path=input_video_file,\n",
    "    csv_path=os.path.join(working_dir, f'{video_id}_ellipse_data_generative_predictions.csv'),\n",
    "    output_video_path=os.path.join(working_dir, f'{video_id}_ellipse_generative_overlay.mp4'),\n",
    "    slow_factor=slow_factor,\n",
    "    start_frame=play_start_frame,\n",
    "    max_frames=play_max_frames\n",
    ")"
   ]
  },
  {
   "cell_type": "code",
   "execution_count": 23,
   "metadata": {},
   "outputs": [],
   "source": [
    "create_video_with_ellipse_overlay(\n",
    "    input_video_path=input_video_file,\n",
    "    csv_path=os.path.join(working_dir, f'{video_id}_ellipse_data_nextframe_predictions.csv'),\n",
    "    output_video_path=os.path.join(working_dir, f'{video_id}_ellipse_predictions_overlay.mp4'),\n",
    "    slow_factor=slow_factor,\n",
    "    start_frame=play_start_frame,\n",
    "    max_frames=play_max_frames\n",
    ")"
   ]
  },
  {
   "cell_type": "markdown",
   "metadata": {},
   "source": [
    "### plot the difference between the predicted and actual ellipses"
   ]
  },
  {
   "cell_type": "code",
   "execution_count": 31,
   "metadata": {},
   "outputs": [
    {
     "name": "stdout",
     "output_type": "stream",
     "text": [
      "Collecting seaborn\n",
      "  Downloading seaborn-0.13.2-py3-none-any.whl.metadata (5.4 kB)\n",
      "Requirement already satisfied: numpy!=1.24.0,>=1.20 in ./.conda/lib/python3.11/site-packages (from seaborn) (1.26.4)\n",
      "Requirement already satisfied: pandas>=1.2 in ./.conda/lib/python3.11/site-packages (from seaborn) (2.2.2)\n",
      "Requirement already satisfied: matplotlib!=3.6.1,>=3.4 in ./.conda/lib/python3.11/site-packages (from seaborn) (3.8.4)\n",
      "Requirement already satisfied: contourpy>=1.0.1 in ./.conda/lib/python3.11/site-packages (from matplotlib!=3.6.1,>=3.4->seaborn) (1.2.1)\n",
      "Requirement already satisfied: cycler>=0.10 in ./.conda/lib/python3.11/site-packages (from matplotlib!=3.6.1,>=3.4->seaborn) (0.12.1)\n",
      "Requirement already satisfied: fonttools>=4.22.0 in ./.conda/lib/python3.11/site-packages (from matplotlib!=3.6.1,>=3.4->seaborn) (4.52.4)\n",
      "Requirement already satisfied: kiwisolver>=1.3.1 in ./.conda/lib/python3.11/site-packages (from matplotlib!=3.6.1,>=3.4->seaborn) (1.4.5)\n",
      "Requirement already satisfied: packaging>=20.0 in ./.conda/lib/python3.11/site-packages (from matplotlib!=3.6.1,>=3.4->seaborn) (24.0)\n",
      "Requirement already satisfied: pillow>=8 in ./.conda/lib/python3.11/site-packages (from matplotlib!=3.6.1,>=3.4->seaborn) (10.3.0)\n",
      "Requirement already satisfied: pyparsing>=2.3.1 in ./.conda/lib/python3.11/site-packages (from matplotlib!=3.6.1,>=3.4->seaborn) (3.1.2)\n",
      "Requirement already satisfied: python-dateutil>=2.7 in ./.conda/lib/python3.11/site-packages (from matplotlib!=3.6.1,>=3.4->seaborn) (2.9.0)\n",
      "Requirement already satisfied: pytz>=2020.1 in ./.conda/lib/python3.11/site-packages (from pandas>=1.2->seaborn) (2024.1)\n",
      "Requirement already satisfied: tzdata>=2022.7 in ./.conda/lib/python3.11/site-packages (from pandas>=1.2->seaborn) (2024.1)\n",
      "Requirement already satisfied: six>=1.5 in ./.conda/lib/python3.11/site-packages (from python-dateutil>=2.7->matplotlib!=3.6.1,>=3.4->seaborn) (1.16.0)\n",
      "Downloading seaborn-0.13.2-py3-none-any.whl (294 kB)\n",
      "\u001b[2K   \u001b[90m━━━━━━━━━━━━━━━━━━━━━━━━━━━━━━━━━━━━━━━━\u001b[0m \u001b[32m294.9/294.9 kB\u001b[0m \u001b[31m3.4 MB/s\u001b[0m eta \u001b[36m0:00:00\u001b[0ma \u001b[36m0:00:01\u001b[0m\n",
      "\u001b[?25hInstalling collected packages: seaborn\n",
      "Successfully installed seaborn-0.13.2\n"
     ]
    }
   ],
   "source": [
    "# ! pip install seaborn\n",
    "import seaborn as sns"
   ]
  },
  {
   "cell_type": "code",
   "execution_count": 52,
   "metadata": {},
   "outputs": [],
   "source": [
    "df_all['frame'] = df_all.index\n",
    "hulahoop_ellipse_df.index = hulahoop_ellipse_df['frame']\n",
    "\n",
    "\n",
    "scaler = MinMaxScaler()\n",
    "measure_cols = [col for col in hulahoop_ellipse_df.columns if 'frame' not in col]\n",
    "scaler.fit(hulahoop_ellipse_df[measure_cols])\n",
    "\n",
    "df_sc_all = df_all.copy()\n",
    "df_sc_org = hulahoop_ellipse_df.copy()\n",
    "\n",
    "\n",
    "df_sc_all[measure_cols] = scaler.transform(df_sc_all[measure_cols])\n",
    "df_sc_org[measure_cols] = scaler.transform(df_sc_org[measure_cols])\n",
    "df_diff = df_sc_all.copy()\n",
    "df_diff[measure_cols] = df_sc_all[measure_cols] - df_sc_org.loc[df_sc_all.index,measure_cols]\n",
    "\n",
    "for col in measure_cols:\n",
    "    df_diff['abs ' + col] = np.abs(df_diff[col])"
   ]
  },
  {
   "cell_type": "code",
   "execution_count": 51,
   "metadata": {},
   "outputs": [
    {
     "data": {
      "text/html": [
       "<div>\n",
       "<style scoped>\n",
       "    .dataframe tbody tr th:only-of-type {\n",
       "        vertical-align: middle;\n",
       "    }\n",
       "\n",
       "    .dataframe tbody tr th {\n",
       "        vertical-align: top;\n",
       "    }\n",
       "\n",
       "    .dataframe thead th {\n",
       "        text-align: right;\n",
       "    }\n",
       "</style>\n",
       "<table border=\"1\" class=\"dataframe\">\n",
       "  <thead>\n",
       "    <tr style=\"text-align: right;\">\n",
       "      <th></th>\n",
       "      <th>top ellipse X</th>\n",
       "      <th>top ellipse Y</th>\n",
       "      <th>bottom ellipse X</th>\n",
       "      <th>bottom ellipse Y</th>\n",
       "      <th>top ellipse Major Axis</th>\n",
       "      <th>top ellipse Minor Axis</th>\n",
       "      <th>bottom ellipse Major Axis</th>\n",
       "      <th>bottom ellipse Minor Axis</th>\n",
       "      <th>top ellipse Angle</th>\n",
       "      <th>bottom ellipse Angle</th>\n",
       "      <th>kind</th>\n",
       "      <th>frame</th>\n",
       "    </tr>\n",
       "  </thead>\n",
       "  <tbody>\n",
       "    <tr>\n",
       "      <th>155</th>\n",
       "      <td>0.000000e+00</td>\n",
       "      <td>0.000000</td>\n",
       "      <td>0.000000</td>\n",
       "      <td>0.000000e+00</td>\n",
       "      <td>0.000000</td>\n",
       "      <td>0.000000</td>\n",
       "      <td>0.000000</td>\n",
       "      <td>0.000000</td>\n",
       "      <td>0.000000</td>\n",
       "      <td>0.000000</td>\n",
       "      <td>Training</td>\n",
       "      <td>155</td>\n",
       "    </tr>\n",
       "    <tr>\n",
       "      <th>156</th>\n",
       "      <td>0.000000e+00</td>\n",
       "      <td>0.000000</td>\n",
       "      <td>0.000000</td>\n",
       "      <td>1.110223e-16</td>\n",
       "      <td>0.000000</td>\n",
       "      <td>0.000000</td>\n",
       "      <td>0.000000</td>\n",
       "      <td>0.000000</td>\n",
       "      <td>0.000000</td>\n",
       "      <td>0.000000</td>\n",
       "      <td>Training</td>\n",
       "      <td>156</td>\n",
       "    </tr>\n",
       "    <tr>\n",
       "      <th>157</th>\n",
       "      <td>0.000000e+00</td>\n",
       "      <td>0.000000</td>\n",
       "      <td>0.000000</td>\n",
       "      <td>0.000000e+00</td>\n",
       "      <td>0.000000</td>\n",
       "      <td>0.000000</td>\n",
       "      <td>0.000000</td>\n",
       "      <td>0.000000</td>\n",
       "      <td>0.000000</td>\n",
       "      <td>0.000000</td>\n",
       "      <td>Training</td>\n",
       "      <td>157</td>\n",
       "    </tr>\n",
       "    <tr>\n",
       "      <th>158</th>\n",
       "      <td>2.220446e-16</td>\n",
       "      <td>0.000000</td>\n",
       "      <td>0.000000</td>\n",
       "      <td>0.000000e+00</td>\n",
       "      <td>0.000000</td>\n",
       "      <td>0.000000</td>\n",
       "      <td>0.000000</td>\n",
       "      <td>0.000000</td>\n",
       "      <td>0.000000</td>\n",
       "      <td>0.000000</td>\n",
       "      <td>Training</td>\n",
       "      <td>158</td>\n",
       "    </tr>\n",
       "    <tr>\n",
       "      <th>159</th>\n",
       "      <td>2.220446e-16</td>\n",
       "      <td>0.000000</td>\n",
       "      <td>0.000000</td>\n",
       "      <td>0.000000e+00</td>\n",
       "      <td>0.000000</td>\n",
       "      <td>0.000000</td>\n",
       "      <td>0.000000</td>\n",
       "      <td>0.000000</td>\n",
       "      <td>0.000000</td>\n",
       "      <td>0.000000</td>\n",
       "      <td>Training</td>\n",
       "      <td>159</td>\n",
       "    </tr>\n",
       "    <tr>\n",
       "      <th>...</th>\n",
       "      <td>...</td>\n",
       "      <td>...</td>\n",
       "      <td>...</td>\n",
       "      <td>...</td>\n",
       "      <td>...</td>\n",
       "      <td>...</td>\n",
       "      <td>...</td>\n",
       "      <td>...</td>\n",
       "      <td>...</td>\n",
       "      <td>...</td>\n",
       "      <td>...</td>\n",
       "      <td>...</td>\n",
       "    </tr>\n",
       "    <tr>\n",
       "      <th>3144</th>\n",
       "      <td>-3.993055e-01</td>\n",
       "      <td>-0.045893</td>\n",
       "      <td>-0.431946</td>\n",
       "      <td>-1.163149e-01</td>\n",
       "      <td>-0.004239</td>\n",
       "      <td>-0.027523</td>\n",
       "      <td>-0.127143</td>\n",
       "      <td>-0.090494</td>\n",
       "      <td>-0.027464</td>\n",
       "      <td>0.414942</td>\n",
       "      <td>Generative</td>\n",
       "      <td>3144</td>\n",
       "    </tr>\n",
       "    <tr>\n",
       "      <th>3145</th>\n",
       "      <td>-3.113767e-01</td>\n",
       "      <td>-0.114446</td>\n",
       "      <td>-0.300986</td>\n",
       "      <td>-3.455599e-01</td>\n",
       "      <td>-0.050618</td>\n",
       "      <td>-0.073023</td>\n",
       "      <td>-0.248177</td>\n",
       "      <td>-0.332275</td>\n",
       "      <td>-0.015405</td>\n",
       "      <td>0.093199</td>\n",
       "      <td>Generative</td>\n",
       "      <td>3145</td>\n",
       "    </tr>\n",
       "    <tr>\n",
       "      <th>3146</th>\n",
       "      <td>-9.361427e-02</td>\n",
       "      <td>-0.157589</td>\n",
       "      <td>-0.051615</td>\n",
       "      <td>-4.767770e-01</td>\n",
       "      <td>-0.104330</td>\n",
       "      <td>-0.131098</td>\n",
       "      <td>-0.387140</td>\n",
       "      <td>-0.463304</td>\n",
       "      <td>-0.000484</td>\n",
       "      <td>-0.021422</td>\n",
       "      <td>Generative</td>\n",
       "      <td>3146</td>\n",
       "    </tr>\n",
       "    <tr>\n",
       "      <th>3147</th>\n",
       "      <td>2.289372e-01</td>\n",
       "      <td>-0.159385</td>\n",
       "      <td>0.269315</td>\n",
       "      <td>-4.391259e-01</td>\n",
       "      <td>-0.112598</td>\n",
       "      <td>-0.173489</td>\n",
       "      <td>-0.401421</td>\n",
       "      <td>-0.410093</td>\n",
       "      <td>0.020110</td>\n",
       "      <td>-0.106876</td>\n",
       "      <td>Generative</td>\n",
       "      <td>3147</td>\n",
       "    </tr>\n",
       "    <tr>\n",
       "      <th>3148</th>\n",
       "      <td>5.227164e-01</td>\n",
       "      <td>-0.067648</td>\n",
       "      <td>0.501690</td>\n",
       "      <td>-1.830977e-01</td>\n",
       "      <td>-0.051547</td>\n",
       "      <td>-0.080997</td>\n",
       "      <td>-0.215020</td>\n",
       "      <td>-0.135529</td>\n",
       "      <td>0.033641</td>\n",
       "      <td>-0.139235</td>\n",
       "      <td>Generative</td>\n",
       "      <td>3148</td>\n",
       "    </tr>\n",
       "  </tbody>\n",
       "</table>\n",
       "<p>4776 rows × 12 columns</p>\n",
       "</div>"
      ],
      "text/plain": [
       "      top ellipse X  top ellipse Y  bottom ellipse X  bottom ellipse Y  \\\n",
       "155    0.000000e+00       0.000000          0.000000      0.000000e+00   \n",
       "156    0.000000e+00       0.000000          0.000000      1.110223e-16   \n",
       "157    0.000000e+00       0.000000          0.000000      0.000000e+00   \n",
       "158    2.220446e-16       0.000000          0.000000      0.000000e+00   \n",
       "159    2.220446e-16       0.000000          0.000000      0.000000e+00   \n",
       "...             ...            ...               ...               ...   \n",
       "3144  -3.993055e-01      -0.045893         -0.431946     -1.163149e-01   \n",
       "3145  -3.113767e-01      -0.114446         -0.300986     -3.455599e-01   \n",
       "3146  -9.361427e-02      -0.157589         -0.051615     -4.767770e-01   \n",
       "3147   2.289372e-01      -0.159385          0.269315     -4.391259e-01   \n",
       "3148   5.227164e-01      -0.067648          0.501690     -1.830977e-01   \n",
       "\n",
       "      top ellipse Major Axis  top ellipse Minor Axis  \\\n",
       "155                 0.000000                0.000000   \n",
       "156                 0.000000                0.000000   \n",
       "157                 0.000000                0.000000   \n",
       "158                 0.000000                0.000000   \n",
       "159                 0.000000                0.000000   \n",
       "...                      ...                     ...   \n",
       "3144               -0.004239               -0.027523   \n",
       "3145               -0.050618               -0.073023   \n",
       "3146               -0.104330               -0.131098   \n",
       "3147               -0.112598               -0.173489   \n",
       "3148               -0.051547               -0.080997   \n",
       "\n",
       "      bottom ellipse Major Axis  bottom ellipse Minor Axis  top ellipse Angle  \\\n",
       "155                    0.000000                   0.000000           0.000000   \n",
       "156                    0.000000                   0.000000           0.000000   \n",
       "157                    0.000000                   0.000000           0.000000   \n",
       "158                    0.000000                   0.000000           0.000000   \n",
       "159                    0.000000                   0.000000           0.000000   \n",
       "...                         ...                        ...                ...   \n",
       "3144                  -0.127143                  -0.090494          -0.027464   \n",
       "3145                  -0.248177                  -0.332275          -0.015405   \n",
       "3146                  -0.387140                  -0.463304          -0.000484   \n",
       "3147                  -0.401421                  -0.410093           0.020110   \n",
       "3148                  -0.215020                  -0.135529           0.033641   \n",
       "\n",
       "      bottom ellipse Angle        kind  frame  \n",
       "155               0.000000    Training    155  \n",
       "156               0.000000    Training    156  \n",
       "157               0.000000    Training    157  \n",
       "158               0.000000    Training    158  \n",
       "159               0.000000    Training    159  \n",
       "...                    ...         ...    ...  \n",
       "3144              0.414942  Generative   3144  \n",
       "3145              0.093199  Generative   3145  \n",
       "3146             -0.021422  Generative   3146  \n",
       "3147             -0.106876  Generative   3147  \n",
       "3148             -0.139235  Generative   3148  \n",
       "\n",
       "[4776 rows x 12 columns]"
      ]
     },
     "execution_count": 51,
     "metadata": {},
     "output_type": "execute_result"
    }
   ],
   "source": [
    "df_diff"
   ]
  },
  {
   "cell_type": "code",
   "execution_count": 59,
   "metadata": {},
   "outputs": [
    {
     "name": "stdout",
     "output_type": "stream",
     "text": [
      "top ellipse X\n",
      "0.045921927565567566\n",
      "first generative frame: 2250\n",
      "number of frames before generative model diverges: 15\n"
     ]
    },
    {
     "data": {
      "image/png": "[encoded data removed]",
      "text/plain": [
       "<Figure size 640x480 with 1 Axes>"
      ]
     },
     "metadata": {},
     "output_type": "display_data"
    }
   ],
   "source": [
    "# df_diff['abs top ellipse X diff'] = np.abs(df_diff['top ellipse X'])\n",
    "# scale \n",
    "col_name = 'top ellipse X'\n",
    "print(col_name)\n",
    "\n",
    "sns.lineplot(data=df_diff, x='frame', y=f'abs {col_name}', hue='kind')\n",
    "\n",
    "max_abs_err_next_frame = df_diff[df_diff['kind'] == 'Next Frame Prediction'][f'abs {col_name}'].max()\n",
    "print(max_abs_err_next_frame)\n",
    "plt.axhline(max_abs_err_next_frame, color='k', linestyle='--', label=f'Max Abs Error Next Frame: {max_abs_err_next_frame:.2f}')\n",
    "\n",
    "# which frame does the generative error exceed the next frame error\n",
    "frame_exceed = df_diff[df_diff['kind'] == 'Generative'][f'abs {col_name}'] > max_abs_err_next_frame\n",
    "frame_exceed = frame_exceed[frame_exceed].index[0]\n",
    "first_generative_frame = df_diff[df_diff['kind'] == 'Generative'].index[0]\n",
    "print('first generative frame:', first_generative_frame)\n",
    "print('number of frames before generative model diverges:', frame_exceed - first_generative_frame)"
   ]
  },
  {
   "cell_type": "code",
   "execution_count": null,
   "metadata": {},
   "outputs": [],
   "source": []
  }
 ],
 "metadata": {
  "kernelspec": {
   "display_name": "Python 3",
   "language": "python",
   "name": "python3"
  },
  "language_info": {
   "codemirror_mode": {
    "name": "ipython",
    "version": 3
   },
   "file_extension": ".py",
   "mimetype": "text/x-python",
   "name": "python",
   "nbconvert_exporter": "python",
   "pygments_lexer": "ipython3",
   "version": "3.1.-1"
  }
 },
 "nbformat": 4,
 "nbformat_minor": 2
}
